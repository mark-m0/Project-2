{
 "cells": [
  {
   "cell_type": "code",
   "execution_count": 1,
   "id": "633d56b2",
   "metadata": {},
   "outputs": [],
   "source": [
    "import pymongo\n",
    "import pandas as pd\n",
    "import os\n",
    "import csv\n",
    "import json"
   ]
  },
  {
   "cell_type": "code",
   "execution_count": 2,
   "id": "6888f9f1",
   "metadata": {},
   "outputs": [],
   "source": [
    "conn = 'mongodb://localhost:27017'"
   ]
  },
  {
   "cell_type": "code",
   "execution_count": 3,
   "id": "e0fc19fb",
   "metadata": {},
   "outputs": [],
   "source": [
    "client = pymongo.MongoClient(conn)"
   ]
  },
  {
   "cell_type": "code",
   "execution_count": 4,
   "id": "c4f331f8",
   "metadata": {},
   "outputs": [],
   "source": [
    "db = client.storms_db\n",
    "storm_data = db.storm_data\n"
   ]
  },
  {
   "cell_type": "code",
   "execution_count": 7,
   "id": "9e16d112",
   "metadata": {},
   "outputs": [],
   "source": [
    "events_file = \"Resources/events.csv\"\n",
    "events_df = pd.read_csv(events_file)\n",
    "\n",
    "storms_file = \"Resources/Storm_data.csv\"\n",
    "storms_df = pd.read_csv(storms_file)\n",
    "\n",
    "storm_data = events_df.append(storms_df)\n",
    "storm_data.to_csv('Resources/Final_storm_data.csv')  "
   ]
  },
  {
   "cell_type": "code",
   "execution_count": 13,
   "id": "7a42c8b9",
   "metadata": {},
   "outputs": [],
   "source": [
    "csvfile = open(\"Resources/Final_storm_data.csv\", \"r\")\n",
    "reader = csv.DictReader (csvfile)\n",
    "db.segment.drop()\n",
    "header= [ \"Type\", \"StartTime\", \"EndTime\", \"TimeZone\", \"LocationLat\", \"LocationLng\", \"City\", \"State\"]\n",
    " \n",
    "for each in reader:\n",
    "    row={}\n",
    "    for field in header:\n",
    "        row[field]=each[field]\n",
    " \n",
    "    db.segment.insert_one(row)"
   ]
  }
 ],
 "metadata": {
  "kernelspec": {
   "display_name": "Python 3 (ipykernel)",
   "language": "python",
   "name": "python3"
  },
  "language_info": {
   "codemirror_mode": {
    "name": "ipython",
    "version": 3
   },
   "file_extension": ".py",
   "mimetype": "text/x-python",
   "name": "python",
   "nbconvert_exporter": "python",
   "pygments_lexer": "ipython3",
   "version": "3.7.7"
  }
 },
 "nbformat": 4,
 "nbformat_minor": 5
}
