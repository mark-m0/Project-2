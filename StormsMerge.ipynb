{
 "cells": [
  {
   "cell_type": "code",
   "execution_count": 11,
   "id": "1940e6c2",
   "metadata": {},
   "outputs": [],
   "source": [
    "import pymongo\n",
    "import pandas as pd\n",
    "import os\n",
    "import csv\n",
    "import json"
   ]
  },
  {
   "cell_type": "code",
   "execution_count": 6,
   "id": "063bb92c",
   "metadata": {},
   "outputs": [],
   "source": [
    "conn = 'mongodb://localhost:27017'"
   ]
  },
  {
   "cell_type": "code",
   "execution_count": 7,
   "id": "40646f4c",
   "metadata": {},
   "outputs": [],
   "source": [
    "client = pymongo.MongoClient(conn)"
   ]
  },
  {
   "cell_type": "code",
   "execution_count": 9,
   "id": "4c3a2e2e",
   "metadata": {},
   "outputs": [],
   "source": [
    "db = client.storms_db\n",
    "storm_data = db.storm_data\n",
    "csvfile = open(\"storm_data.csv\", \"r\")\n",
    "reader = csv.DictReader (csvfile)\n",
    "db.segment.drop()\n",
    "header= [ \"Type\", \"StartTime\", \"EndTime\", \"TimeZone\", \"LocationLat\", \"LocationLng\", \"City\", \"State\"]\n",
    " \n",
    "for each in reader:\n",
    "    row={}\n",
    "    for field in header:\n",
    "        row[field]=each[field]\n",
    " \n",
    "    db.segment.insert(row)"
   ]
  },
  {
   "cell_type": "code",
   "execution_count": null,
   "id": "53c1abf8",
   "metadata": {},
   "outputs": [],
   "source": []
  }
 ],
 "metadata": {
  "kernelspec": {
   "display_name": "Python 3 (ipykernel)",
   "language": "python",
   "name": "python3"
  },
  "language_info": {
   "codemirror_mode": {
    "name": "ipython",
    "version": 3
   },
   "file_extension": ".py",
   "mimetype": "text/x-python",
   "name": "python",
   "nbconvert_exporter": "python",
   "pygments_lexer": "ipython3",
   "version": "3.7.7"
  }
 },
 "nbformat": 4,
 "nbformat_minor": 5
}
