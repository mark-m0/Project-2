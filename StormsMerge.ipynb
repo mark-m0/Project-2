{
 "cells": [
  {
   "cell_type": "code",
   "execution_count": 5,
   "id": "7f162d0b",
   "metadata": {},
   "outputs": [],
   "source": [
    "import pymongo\n",
    "import pandas as pd\n",
    "import os"
   ]
  },
  {
   "cell_type": "code",
   "execution_count": 6,
   "id": "79487326",
   "metadata": {},
   "outputs": [],
   "source": [
    "conn = 'mongodb://localhost:27017'"
   ]
  },
  {
   "cell_type": "code",
   "execution_count": 7,
   "id": "7f9d46c1",
   "metadata": {},
   "outputs": [],
   "source": [
    "client = pymongo.MongoClient(conn)"
   ]
  },
  {
   "cell_type": "code",
   "execution_count": 8,
   "id": "ee46059e",
   "metadata": {},
   "outputs": [],
   "source": [
    "db = client.storms_db"
   ]
  },
  {
   "cell_type": "code",
   "execution_count": null,
   "id": "0655cdeb",
   "metadata": {},
   "outputs": [],
   "source": []
  }
 ],
 "metadata": {
  "kernelspec": {
   "display_name": "Python 3 (ipykernel)",
   "language": "python",
   "name": "python3"
  },
  "language_info": {
   "codemirror_mode": {
    "name": "ipython",
    "version": 3
   },
   "file_extension": ".py",
   "mimetype": "text/x-python",
   "name": "python",
   "nbconvert_exporter": "python",
   "pygments_lexer": "ipython3",
   "version": "3.7.7"
  }
 },
 "nbformat": 4,
 "nbformat_minor": 5
}
